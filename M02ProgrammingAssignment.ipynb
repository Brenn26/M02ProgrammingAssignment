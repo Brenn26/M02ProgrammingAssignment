{
 "cells": [
  {
   "cell_type": "code",
   "execution_count": 1,
   "id": "d8381385-7fb1-439e-8291-9a871eb5815d",
   "metadata": {},
   "outputs": [
    {
     "name": "stdout",
     "output_type": "stream",
     "text": [
      "Too low\n"
     ]
    }
   ],
   "source": [
    "#41.\n",
    "\n",
    "secret = 5\n",
    "guess = 4\n",
    "\n",
    "if guess > secret:\n",
    "    print(\"Too high\")\n",
    "elif guess < secret:\n",
    "    print(\"Too low\")\n",
    "else:\n",
    "    print(\"just right\")\n",
    "\n"
   ]
  },
  {
   "cell_type": "code",
   "execution_count": 2,
   "id": "37a4c3d6-1535-4790-a02c-ddce9bfee66d",
   "metadata": {},
   "outputs": [
    {
     "name": "stdout",
     "output_type": "stream",
     "text": [
      "Cherry\n"
     ]
    }
   ],
   "source": [
    "#42\n",
    "\n",
    "small = True\n",
    "\n",
    "green = False\n",
    "\n",
    "if small and green:\n",
    "    print(\"Pea\")\n",
    "elif small and not green:\n",
    "    print(\"Cherry\")\n",
    "elif not small and green:\n",
    "    print(\"Watermelon\")\n",
    "elif not small and not green:\n",
    "    print(\"Pumpkin\")\n"
   ]
  },
  {
   "cell_type": "code",
   "execution_count": 3,
   "id": "e2ae3829-41c3-457f-9d2d-8352365d0600",
   "metadata": {},
   "outputs": [
    {
     "name": "stdout",
     "output_type": "stream",
     "text": [
      "3\n",
      "2\n",
      "1\n",
      "0\n"
     ]
    }
   ],
   "source": [
    "#61\n",
    "\n",
    "values = [3, 2, 1, 0]\n",
    "\n",
    "for value in values:\n",
    "    print(value)"
   ]
  },
  {
   "cell_type": "code",
   "execution_count": 5,
   "id": "8e2d2fac-1ab8-4567-bf62-0701365c64ae",
   "metadata": {},
   "outputs": [
    {
     "name": "stdout",
     "output_type": "stream",
     "text": [
      "Too low\n",
      "Too low\n",
      "Too low\n",
      "Too low\n",
      "Too low\n",
      "Too low\n",
      "Found it\n"
     ]
    }
   ],
   "source": [
    "#62\n",
    "guess_me = 7\n",
    "number = 1\n",
    "\n",
    "\n",
    "while True:\n",
    "    if number < guess_me:\n",
    "        print('Too low')\n",
    "    elif number == guess_me:\n",
    "        print('Found it')\n",
    "        break\n",
    "    else:\n",
    "        print('Oops')\n",
    "        break\n",
    "    number += 1"
   ]
  },
  {
   "cell_type": "code",
   "execution_count": 6,
   "id": "a4478cc0-b4c1-4e3f-9bb3-fd545f4d16a9",
   "metadata": {},
   "outputs": [
    {
     "name": "stdout",
     "output_type": "stream",
     "text": [
      "Too low\n",
      "Too low\n",
      "Too low\n",
      "Too low\n",
      "Too low\n",
      "Found it\n"
     ]
    }
   ],
   "source": [
    "#63\n",
    "guess_me = 5\n",
    "\n",
    "\n",
    "for number in range(10):\n",
    "    if number < guess_me:\n",
    "        print('Too low')\n",
    "    elif number == guess_me:\n",
    "        print('Found it')\n",
    "        break\n",
    "    else:\n",
    "        print('oops')\n",
    "        break"
   ]
  }
 ],
 "metadata": {
  "kernelspec": {
   "display_name": "Python 3 (ipykernel)",
   "language": "python",
   "name": "python3"
  },
  "language_info": {
   "codemirror_mode": {
    "name": "ipython",
    "version": 3
   },
   "file_extension": ".py",
   "mimetype": "text/x-python",
   "name": "python",
   "nbconvert_exporter": "python",
   "pygments_lexer": "ipython3",
   "version": "3.11.7"
  }
 },
 "nbformat": 4,
 "nbformat_minor": 5
}
